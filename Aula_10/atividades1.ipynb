{
 "cells": [
  {
   "cell_type": "code",
   "execution_count": 4,
   "id": "3b562158",
   "metadata": {},
   "outputs": [
    {
     "name": "stdout",
     "output_type": "stream",
     "text": [
      "[[20, 55, 38], [24, 82, 0], [53, 1, 83]]\n"
     ]
    }
   ],
   "source": [
    "import random\n",
    "\n",
    "Matriz = []\n",
    "\n",
    "for i in range(3):\n",
    "    linha=[]\n",
    "\n",
    "    for j in range(3):\n",
    "        valor=random.randint(0,100)\n",
    "        linha.append(valor)\n",
    "    Matriz.append(linha)\n",
    "print(f\"{Matriz}\")"
   ]
  },
  {
   "cell_type": "code",
   "execution_count": 15,
   "id": "3b46efdb",
   "metadata": {},
   "outputs": [
    {
     "name": "stdout",
     "output_type": "stream",
     "text": [
      "[20, 55, 38]\n",
      "[24, 82, 0]\n",
      "[53, 1, 83]\n"
     ]
    }
   ],
   "source": [
    "for linha in Matriz:\n",
    "    print(f\"{linha}\")"
   ]
  },
  {
   "cell_type": "code",
   "execution_count": 16,
   "id": "97b42b86",
   "metadata": {},
   "outputs": [
    {
     "name": "stdout",
     "output_type": "stream",
     "text": [
      "20 55 38 \n",
      "24 82 00 \n",
      "53 01 83 \n"
     ]
    }
   ],
   "source": [
    "for linha in Matriz:\n",
    "    for valor in linha:\n",
    "        print(f\"{valor:>02}\",end=\" \")\n",
    "    print() "
   ]
  },
  {
   "cell_type": "code",
   "execution_count": null,
   "id": "67de8ab5",
   "metadata": {},
   "outputs": [
    {
     "name": "stdout",
     "output_type": "stream",
     "text": [
      "Elemento: 00 >>>> 20\n",
      "Elemento: 01 >>>> 55\n",
      "Elemento: 02 >>>> 38\n",
      "Elemento: 10 >>>> 24\n",
      "Elemento: 11 >>>> 82\n",
      "Elemento: 12 >>>> 00\n",
      "Elemento: 20 >>>> 53\n",
      "Elemento: 21 >>>> 01\n",
      "Elemento: 22 >>>> 83\n"
     ]
    }
   ],
   "source": [
    "for i in range(3):\n",
    "    for j in range(3):\n",
    "        print(f\"Elemento: {i}{j} >>>> {Matriz[i][j]:>02}\")\n",
    "\n",
    "        # Atividade 01\n",
    "        ## 4 5 6 \n"
   ]
  },
  {
   "cell_type": "code",
   "execution_count": null,
   "id": "85639b58",
   "metadata": {},
   "outputs": [],
   "source": [
    "# Atividade 04\n",
    "Matriz_2 = []\n",
    "for i in range (4):\n",
    "    linha_2=[]\n",
    "    for j in range (4):\n",
    "        valor =float(input(\"Digite um valor ebtre 0 e 99: \"))\n",
    "        linha_2.append(valor)\n",
    "    Matriz_2.append(linha_2)"
   ]
  },
  {
   "cell_type": "code",
   "execution_count": 20,
   "id": "c752032c",
   "metadata": {},
   "outputs": [
    {
     "name": "stdout",
     "output_type": "stream",
     "text": [
      "[[4.0, 5.0, 78.0, 9.0], [82.0, 5.0, 12.0, 6.0], [7.0, 35.0, 5.0, 45.0], [78.0, 98.0, 62.0, 5.0]]\n"
     ]
    }
   ],
   "source": [
    "print(f\"{Matriz_2}\")"
   ]
  },
  {
   "cell_type": "code",
   "execution_count": 24,
   "id": "96656da2",
   "metadata": {},
   "outputs": [
    {
     "name": "stdout",
     "output_type": "stream",
     "text": [
      "Maior Valor da Linha [4.0, 5.0, 78.0, 9.0] \n",
      "\t\t >>78.0<<\n",
      "Maior Valor da Linha [82.0, 5.0, 12.0, 6.0] \n",
      "\t\t >>82.0<<\n",
      "Maior Valor da Linha [7.0, 35.0, 5.0, 45.0] \n",
      "\t\t >>45.0<<\n",
      "Maior Valor da Linha [78.0, 98.0, 62.0, 5.0] \n",
      "\t\t >>98.0<<\n"
     ]
    }
   ],
   "source": [
    "for linha_2 in Matriz_2:\n",
    "    maior=0.0\n",
    "    for valor in linha_2:\n",
    "        if valor > maior:\n",
    "            maior = valor\n",
    "    print(f\"Maior Valor da Linha {linha_2} \\n\\t\\t >>{maior}<<\")"
   ]
  },
  {
   "cell_type": "code",
   "execution_count": 29,
   "id": "885219b5",
   "metadata": {},
   "outputs": [
    {
     "name": "stdout",
     "output_type": "stream",
     "text": [
      "A matriz tem 012 numeros pares\n",
      "A matriz tem 004 numeros impares\n"
     ]
    }
   ],
   "source": [
    "# atividade 5 obs: utilizei a matriz da atividade anterior para poupar tempo \n",
    "Par = 0\n",
    "ipar = 0\n",
    "for linha in Matriz_2:\n",
    "    for valor in linha_2:\n",
    "        if valor % 2 == 0:\n",
    "            Par = Par + 1\n",
    "        else:\n",
    "            ipar = ipar + 1\n",
    "print (f\"A matriz tem {Par:03} numeros pares\")\n",
    "print (f\"A matriz tem {ipar:03} numeros impares\")"
   ]
  },
  {
   "cell_type": "code",
   "execution_count": null,
   "id": "c5e1d64b",
   "metadata": {},
   "outputs": [
    {
     "name": "stdout",
     "output_type": "stream",
     "text": [
      "[[390.0, 490.0, 310.0, 25.0], [390.0, 490.0, 310.0, 25.0], [390.0, 490.0, 310.0, 25.0], [390.0, 490.0, 310.0, 25.0]]\n"
     ]
    }
   ],
   "source": [
    "numero = float(input(\"Digite um valor para dividir: \"))\n",
    "Matriz_3 = []\n",
    "for linha in Matriz_2:\n",
    "    linha_3 = []\n",
    "    for valor in linha_2:\n",
    "        resultado=valor * numero\n",
    "        ## print(f\"{valor} * {numero} = {valor * numero}\") >> nao eraa isso que eu pensei \n",
    "        linha_3.append(resultado)\n",
    "    Matriz_3.append(linha_3)\n",
    "print(f\"{Matriz_3}\")"
   ]
  },
  {
   "cell_type": "code",
   "execution_count": null,
   "id": "a1fbb52b",
   "metadata": {},
   "outputs": [],
   "source": []
  }
 ],
 "metadata": {
  "kernelspec": {
   "display_name": "Python 3",
   "language": "python",
   "name": "python3"
  },
  "language_info": {
   "codemirror_mode": {
    "name": "ipython",
    "version": 3
   },
   "file_extension": ".py",
   "mimetype": "text/x-python",
   "name": "python",
   "nbconvert_exporter": "python",
   "pygments_lexer": "ipython3",
   "version": "3.10.5"
  }
 },
 "nbformat": 4,
 "nbformat_minor": 5
}
